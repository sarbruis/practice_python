{
 "cells": [
  {
   "cell_type": "code",
   "execution_count": 3,
   "metadata": {},
   "outputs": [
    {
     "name": "stdout",
     "output_type": "stream",
     "text": [
      "Enter number: 10000\n",
      "[1, 2, 4, 5, 8, 10, 16, 20, 25, 40, 50, 80, 100, 125, 200, 250, 400, 500, 625, 1000, 1250, 2000, 2500, 5000]\n"
     ]
    }
   ],
   "source": [
    "'''\n",
    "Create a program that asks the user for a number and then prints out a list of all the divisors of that number. \n",
    "(If you don’t know what a divisor is, it is a number that divides evenly into another number. \n",
    "For example, 13 is a divisor of 26 because 26 / 13 has no remainder.)\n",
    "'''\n",
    "\n",
    "\n",
    "num = int(input(\"Enter number: \"))\n",
    "print([i for i in range(1, num) if (num % i) == 0])"
   ]
  },
  {
   "cell_type": "code",
   "execution_count": null,
   "metadata": {},
   "outputs": [],
   "source": []
  }
 ],
 "metadata": {
  "kernelspec": {
   "display_name": "Python 3",
   "language": "python",
   "name": "python3"
  },
  "language_info": {
   "codemirror_mode": {
    "name": "ipython",
    "version": 3
   },
   "file_extension": ".py",
   "mimetype": "text/x-python",
   "name": "python",
   "nbconvert_exporter": "python",
   "pygments_lexer": "ipython3",
   "version": "3.7.3"
  }
 },
 "nbformat": 4,
 "nbformat_minor": 2
}
