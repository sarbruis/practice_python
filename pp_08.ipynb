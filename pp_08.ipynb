{
 "cells": [
  {
   "cell_type": "code",
   "execution_count": 1,
   "metadata": {},
   "outputs": [
    {
     "name": "stdout",
     "output_type": "stream",
     "text": [
      "Player 1 choice:rock\n",
      "Player 2 choice:rock\n",
      "Tie\n",
      "Would you like to play again?no\n"
     ]
    }
   ],
   "source": [
    "'''\n",
    "Make a two-player Rock-Paper-Scissors game. \n",
    "(Hint: Ask for player plays (using input), compare them, print out a message of congratulations to the winner, \n",
    "and ask if the players want to start a new game)\n",
    "\n",
    "Remember the rules:\n",
    "\n",
    "Rock beats scissors\n",
    "Scissors beats paper\n",
    "Paper beats rock\n",
    "'''\n",
    "\n",
    "game = True\n",
    "\n",
    "while (game == True):\n",
    "    player1 = input(\"Player 1 choice:\")\n",
    "    player2 = input(\"Player 2 choice:\")\n",
    "    outcome = \"Tie\"\n",
    "    rock = (\"rock\", \"Rock\")\n",
    "    paper = (\"paper\", \"Paper\")\n",
    "    scissors = (\"scissors\", \"Scissors\")\n",
    "\n",
    "    if (player1 in rock):\n",
    "        if (player2 in paper):\n",
    "            outcome = \"Player 2 wins\"\n",
    "        elif (player2 in scissors):\n",
    "            outcome = \"Player 1 wins\"\n",
    "\n",
    "    if (player1 in paper):\n",
    "        if (player2 in scissors):\n",
    "            outcome = \"Player 2 wins\"\n",
    "        elif (player2 in rock):\n",
    "            outcome = \"Player 1 wins\"\n",
    "            \n",
    "    if (player1 in scissors):\n",
    "        if (player2 in rock):\n",
    "            outcome = \"Player 2 wins\"\n",
    "        elif (player2 in paper):\n",
    "            outcome = \"Player 1 wins\"\n",
    "            \n",
    "    print(outcome)\n",
    "    game_choice = input(\"Would you like to play again?\")\n",
    "    \n",
    "    if (game_choice in (\"no\", \"No\")):\n",
    "        game = False"
   ]
  },
  {
   "cell_type": "code",
   "execution_count": null,
   "metadata": {},
   "outputs": [],
   "source": []
  }
 ],
 "metadata": {
  "kernelspec": {
   "display_name": "Python 3",
   "language": "python",
   "name": "python3"
  },
  "language_info": {
   "codemirror_mode": {
    "name": "ipython",
    "version": 3
   },
   "file_extension": ".py",
   "mimetype": "text/x-python",
   "name": "python",
   "nbconvert_exporter": "python",
   "pygments_lexer": "ipython3",
   "version": "3.7.3"
  }
 },
 "nbformat": 4,
 "nbformat_minor": 2
}
